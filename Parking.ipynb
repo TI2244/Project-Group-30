{
 "cells": [
  {
   "cell_type": "code",
   "execution_count": 1,
   "id": "620ebba3",
   "metadata": {},
   "outputs": [],
   "source": [
    "import pandas as pd"
   ]
  },
  {
   "cell_type": "code",
   "execution_count": 2,
   "id": "3435fab0",
   "metadata": {},
   "outputs": [
    {
     "name": "stderr",
     "output_type": "stream",
     "text": [
      "/Applications/anaconda3/lib/python3.9/site-packages/IPython/core/interactiveshell.py:3444: DtypeWarning: Columns (20,31,32) have mixed types.Specify dtype option on import or set low_memory=False.\n",
      "  exec(code_obj, self.user_global_ns, self.user_ns)\n"
     ]
    }
   ],
   "source": [
    "data = pd.read_csv('311_Service_Requests_2020.csv')"
   ]
  },
  {
   "cell_type": "code",
   "execution_count": 3,
   "id": "5b40693d",
   "metadata": {},
   "outputs": [
    {
     "name": "stdout",
     "output_type": "stream",
     "text": [
      "0.07487334365033108 0.05207265952491849\n"
     ]
    }
   ],
   "source": [
    "df_local = data[data['Incident Zip'] == 10027]\n",
    "in_total = len(data[data['Complaint Type'] == 'Illegal Parking']) / len(data)\n",
    "in_local = len(df_local[df_local['Complaint Type'] == 'Illegal Parking']) / len(df_local)\n",
    "print(in_total, in_local)\n",
    "higher_parking_proportion = in_total < in_local"
   ]
  },
  {
   "cell_type": "code",
   "execution_count": 4,
   "id": "0a2aa29a",
   "metadata": {},
   "outputs": [
    {
     "data": {
      "text/plain": [
       "False"
      ]
     },
     "execution_count": 4,
     "metadata": {},
     "output_type": "execute_result"
    }
   ],
   "source": [
    "higher_parking_proportion"
   ]
  },
  {
   "cell_type": "code",
   "execution_count": null,
   "id": "b01a0dd5",
   "metadata": {},
   "outputs": [],
   "source": []
  }
 ],
 "metadata": {
  "kernelspec": {
   "display_name": "Python 3 (ipykernel)",
   "language": "python",
   "name": "python3"
  },
  "language_info": {
   "codemirror_mode": {
    "name": "ipython",
    "version": 3
   },
   "file_extension": ".py",
   "mimetype": "text/x-python",
   "name": "python",
   "nbconvert_exporter": "python",
   "pygments_lexer": "ipython3",
   "version": "3.9.7"
  }
 },
 "nbformat": 4,
 "nbformat_minor": 5
}
